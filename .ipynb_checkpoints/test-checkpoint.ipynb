{
 "cells": [
  {
   "cell_type": "markdown",
   "id": "b4e4cd04",
   "metadata": {},
   "source": [
    "## Checklimits"
   ]
  },
  {
   "cell_type": "code",
   "execution_count": 1,
   "id": "93315010",
   "metadata": {},
   "outputs": [
    {
     "name": "stdout",
     "output_type": "stream",
     "text": [
      "#WARN    =  456\n",
      "#WWARN   =  303\n",
      "#WWWARN  =  0\n",
      "#WWWWARN =  0\n",
      "b'./pwhg_checklimits-  Random radiation variables ====>   0.52053146956651020       0.10000000000000001       0.27124508007986847     '\n",
      "b'./pwhg_checklimits- ######### Check coll  0.10000000000000001     '\n",
      "b'./pwhg_checklimits- ######### Check coll   1.0000000000000000E-002'\n",
      "b'./pwhg_checklimits- ######### Check coll   1.0000000000000000E-003'\n",
      "b'./pwhg_checklimits- ######### Check coll   1.0000000000000000E-004'\n",
      "b'./pwhg_checklimits- ######### Check coll   1.0000000000000001E-005'\n",
      "b'./pwhg_checklimits- ######### Check coll   9.9999999999999995E-007'\n",
      "b'./pwhg_checklimits- ######### Check coll   9.9999999999999995E-008'\n",
      "b'./pwhg_checklimits- ######### Check coll   1.0000000000000000E-008'\n",
      "b'./pwhg_checklimits- coll  emitter  5, process   -5   0  11 -11  -5   0'\n",
      "b'./pwhg_checklimits: alr=          11   1.3293529094570582      *-WWARN-*      '\n",
      "b'./pwhg_checklimits- alr=          11   1.0064831639514307                     '\n",
      "b'./pwhg_checklimits- alr=          11   1.0003613100962512                     '\n",
      "b'./pwhg_checklimits- alr=          11   1.0001307810106164                     '\n",
      "b'./pwhg_checklimits- alr=          11   1.0001268917799582                     '\n",
      "b'./pwhg_checklimits- alr=          11   1.0001268482993346                     '\n",
      "b'./pwhg_checklimits- alr=          11   1.0001268522265518                     '\n",
      "b'./pwhg_checklimits- alr=          11   1.0001268574674802                     '\n",
      "b'./pwhg_checklimits- coll  emitter  5, process   -5   5  11 -11   0   0'\n",
      "b'./pwhg_checklimits- alr=          22  0.91634734257878703      *-WARN-*       '\n"
     ]
    }
   ],
   "source": [
    "import pypowhegparse as ppp\n",
    "\n",
    "ppp.print_stats(\".\")\n",
    "\n",
    "for s in ppp.inspect_warn_grep(\".\",2)[0]:\n",
    "    print(s)\n"
   ]
  },
  {
   "cell_type": "markdown",
   "id": "90bf33e8",
   "metadata": {},
   "source": [
    "## Counters"
   ]
  },
  {
   "cell_type": "code",
   "execution_count": 2,
   "id": "54f6197c",
   "metadata": {},
   "outputs": [
    {
     "ename": "AttributeError",
     "evalue": "type object 'DataFrame' has no attribute 'from_record'",
     "output_type": "error",
     "traceback": [
      "\u001b[0;31m---------------------------------------------------------------------------\u001b[0m",
      "\u001b[0;31mAttributeError\u001b[0m                            Traceback (most recent call last)",
      "\u001b[0;32m/tmp/ipykernel_13542/2576333289.py\u001b[0m in \u001b[0;36m<module>\u001b[0;34m\u001b[0m\n\u001b[0;32m----> 1\u001b[0;31m \u001b[0mppp\u001b[0m\u001b[0;34m.\u001b[0m\u001b[0mload_counter_file\u001b[0m\u001b[0;34m(\u001b[0m\u001b[0;34m\"pwgcounters.dat\"\u001b[0m\u001b[0;34m)\u001b[0m\u001b[0;34m\u001b[0m\u001b[0;34m\u001b[0m\u001b[0m\n\u001b[0m",
      "\u001b[0;32m~/data/de.neuwirthinformatik.Alexander/Development/git/pypowhegparse/pypowhegparse/counters.py\u001b[0m in \u001b[0;36mload_counter_file\u001b[0;34m(file)\u001b[0m\n\u001b[1;32m     11\u001b[0m                         \u001b[0;32mif\u001b[0m \u001b[0mg\u001b[0m \u001b[0;32mis\u001b[0m \u001b[0;32mnot\u001b[0m \u001b[0;32mNone\u001b[0m\u001b[0;34m:\u001b[0m\u001b[0;34m\u001b[0m\u001b[0;34m\u001b[0m\u001b[0m\n\u001b[1;32m     12\u001b[0m                                 \u001b[0mpairs\u001b[0m\u001b[0;34m[\u001b[0m\u001b[0mg\u001b[0m\u001b[0;34m.\u001b[0m\u001b[0mgroup\u001b[0m\u001b[0;34m(\u001b[0m\u001b[0;36m1\u001b[0m\u001b[0;34m)\u001b[0m\u001b[0;34m]\u001b[0m \u001b[0;34m=\u001b[0m \u001b[0mfloat\u001b[0m\u001b[0;34m(\u001b[0m\u001b[0mg\u001b[0m\u001b[0;34m.\u001b[0m\u001b[0mgroup\u001b[0m\u001b[0;34m(\u001b[0m\u001b[0;36m2\u001b[0m\u001b[0;34m)\u001b[0m\u001b[0;34m)\u001b[0m\u001b[0;34m\u001b[0m\u001b[0;34m\u001b[0m\u001b[0m\n\u001b[0;32m---> 13\u001b[0;31m         \u001b[0;32mreturn\u001b[0m \u001b[0mpd\u001b[0m\u001b[0;34m.\u001b[0m\u001b[0mDataFrame\u001b[0m\u001b[0;34m.\u001b[0m\u001b[0mfrom_record\u001b[0m\u001b[0;34m(\u001b[0m\u001b[0mpairs\u001b[0m\u001b[0;34m,\u001b[0m\u001b[0mcolumns\u001b[0m\u001b[0;34m=\u001b[0m\u001b[0;34m[\u001b[0m\u001b[0mfile\u001b[0m\u001b[0;34m]\u001b[0m\u001b[0;34m)\u001b[0m\u001b[0;34m\u001b[0m\u001b[0;34m\u001b[0m\u001b[0m\n\u001b[0m\u001b[1;32m     14\u001b[0m \u001b[0;34m\u001b[0m\u001b[0m\n\u001b[1;32m     15\u001b[0m \u001b[0;32mdef\u001b[0m \u001b[0mload_counter_folder\u001b[0m\u001b[0;34m(\u001b[0m\u001b[0mfolder\u001b[0m\u001b[0;34m)\u001b[0m\u001b[0;34m:\u001b[0m\u001b[0;34m\u001b[0m\u001b[0;34m\u001b[0m\u001b[0m\n",
      "\u001b[0;31mAttributeError\u001b[0m: type object 'DataFrame' has no attribute 'from_record'"
     ]
    }
   ],
   "source": [
    "ppp.load_counter_file(\"pwgcounters.dat\")"
   ]
  },
  {
   "cell_type": "code",
   "execution_count": null,
   "id": "5cd60f3c",
   "metadata": {},
   "outputs": [],
   "source": []
  }
 ],
 "metadata": {
  "kernelspec": {
   "display_name": "Python 3",
   "language": "python",
   "name": "python3"
  },
  "language_info": {
   "codemirror_mode": {
    "name": "ipython",
    "version": 3
   },
   "file_extension": ".py",
   "mimetype": "text/x-python",
   "name": "python",
   "nbconvert_exporter": "python",
   "pygments_lexer": "ipython3",
   "version": "3.8.12"
  }
 },
 "nbformat": 4,
 "nbformat_minor": 5
}
